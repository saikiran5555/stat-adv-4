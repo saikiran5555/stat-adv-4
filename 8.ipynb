{
 "cells": [
  {
   "cell_type": "markdown",
   "id": "60b7fa1e",
   "metadata": {},
   "source": [
    "The margin of error in a confidence interval is a measure of the precision of an estimated population parameter. It specifies a range within which we can expect the true population parameter to fall, with a certain level of confidence. The margin of error is influenced by two main factors: the level of confidence and the sample size.\n",
    "\n",
    "Level of Confidence: The higher the confidence level (e.g., 95% vs 90%), the larger the margin of error, as a wider interval is needed to ensure the parameter falls within that range with higher probability.\n",
    "\n",
    "Sample Size: The larger the sample size, the smaller the margin of error. This is because a larger sample gives more information and thus a more precise estimate of the population parameter.\n",
    "\n",
    "Formula for Margin of Error:\n",
    "For a simple random sample from a large population, the margin of error (for a population mean, under certain conditions) is calculated as:\n",
    "\n",
    "Margin of Error\n",
    "=\n",
    "�\n",
    "×\n",
    "�\n",
    "�\n",
    "Margin of Error=z× \n",
    "n\n",
    "​\n",
    " \n",
    "σ\n",
    "​\n",
    " \n",
    "\n",
    "Where:\n",
    "\n",
    "�\n",
    "z is the z-score associated with the confidence level.\n",
    "�\n",
    "σ is the standard deviation of the population.\n",
    "�\n",
    "n is the sample size.\n",
    "Example Scenario:\n",
    "Let's consider a scenario of a political poll:\n",
    "\n",
    "Suppose a pollster wants to estimate the proportion of voters in a city who support a particular candidate. Initially, the pollster surveys 100 randomly selected voters (small sample size), and later they survey 1000 voters (larger sample size).\n",
    "\n",
    "First Poll (with 100 voters):\n",
    "Assume the standard deviation (σ) is known and remains constant.\n",
    "With \n",
    "�\n",
    "=\n",
    "100\n",
    "n=100, the margin of error will be larger because the denominator in the margin of error formula is smaller.\n",
    "Second Poll (with 1000 voters):\n",
    "With \n",
    "�\n",
    "=\n",
    "1000\n",
    "n=1000, the margin of error decreases as the denominator (the square root of the sample size) increases. This leads to a narrower confidence interval, implying greater precision in the estimate."
   ]
  }
 ],
 "metadata": {
  "kernelspec": {
   "display_name": "Python 3 (ipykernel)",
   "language": "python",
   "name": "python3"
  },
  "language_info": {
   "codemirror_mode": {
    "name": "ipython",
    "version": 3
   },
   "file_extension": ".py",
   "mimetype": "text/x-python",
   "name": "python",
   "nbconvert_exporter": "python",
   "pygments_lexer": "ipython3",
   "version": "3.10.9"
  }
 },
 "nbformat": 4,
 "nbformat_minor": 5
}
