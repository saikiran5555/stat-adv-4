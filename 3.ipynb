{
 "cells": [
  {
   "cell_type": "markdown",
   "id": "b9c98067",
   "metadata": {},
   "source": [
    "In hypothesis testing, two kinds of errors can occur, known as Type 1 and Type 2 errors. These errors are related to the concepts of rejecting or failing to reject the null hypothesis.\n",
    "\n",
    "Type 1 Error (False Positive)\n",
    "Definition: Occurs when the null hypothesis is true, but it is incorrectly rejected. It's a \"false positive\" because it indicates that there is an effect or difference when in reality, there isn't.\n",
    "Probability: The probability of making a Type 1 error is denoted by the significance level (α), typically set at 0.05 (or 5%).\n",
    "Example Scenario: Imagine a court trial where the null hypothesis is that the defendant is innocent (H0: the defendant is innocent). A Type 1 error would occur if the court wrongly convicts an innocent person. In statistical terms, it's like a clinical trial indicating that a new drug is effective in treating a disease when it actually isn't.\n",
    "Type 2 Error (False Negative)\n",
    "Definition: Occurs when the null hypothesis is false, but it is incorrectly failed to be rejected. It's a \"false negative\" because it indicates that there is no effect or difference when in reality, there is.\n",
    "Probability: The probability of making a Type 2 error is denoted by β. The power of the test (1 - β) is the probability of correctly rejecting the false null hypothesis.\n",
    "Example Scenario: Using the court trial analogy, a Type 2 error would happen if the court wrongly acquits a guilty person (H0: the defendant is innocent, but the court fails to reject this false hypothesis). In a clinical setting, it's like a trial failing to detect the effectiveness of a new drug that is actually effective.\n",
    "Balancing Type 1 and Type 2 Errors\n",
    "In practice, there's often a trade-off between minimizing Type 1 and Type 2 errors. For example, increasing the sample size can help reduce both types of errors. However, setting a lower significance level (α) to reduce Type 1 errors increases the risk of Type 2 errors, and vice versa. The choice often depends on the context and consequences of the errors. In medical trials, for example, Type 1 errors are usually considered more serious because they could lead to the adoption of ineffective or harmful treatments."
   ]
  }
 ],
 "metadata": {
  "kernelspec": {
   "display_name": "Python 3 (ipykernel)",
   "language": "python",
   "name": "python3"
  },
  "language_info": {
   "codemirror_mode": {
    "name": "ipython",
    "version": 3
   },
   "file_extension": ".py",
   "mimetype": "text/x-python",
   "name": "python",
   "nbconvert_exporter": "python",
   "pygments_lexer": "ipython3",
   "version": "3.10.9"
  }
 },
 "nbformat": 4,
 "nbformat_minor": 5
}
