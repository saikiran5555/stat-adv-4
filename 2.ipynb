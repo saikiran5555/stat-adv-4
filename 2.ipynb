{
 "cells": [
  {
   "cell_type": "markdown",
   "id": "0e84fa5a",
   "metadata": {},
   "source": [
    "One-tailed and two-tailed tests are two approaches used in hypothesis testing in statistics, and they differ in terms of the directionality of the hypotheses they test.\n",
    "\n",
    "One-Tailed Test:\n",
    "\n",
    "Directional Hypothesis: A one-tailed test is used when the hypothesis is directional, meaning it predicts that the effect or difference will be in a specific direction.\n",
    "Example Hypotheses:\n",
    "\"The new medication increases blood pressure.\"\n",
    "\"The new teaching method improves test scores.\"\n",
    "Statistical Test: It examines the possibility of the relationship in one specific direction. For instance, whether a sample mean is significantly greater or lesser than the population mean.\n",
    "Critical Region: In a one-tailed test, the critical region (area where we reject the null hypothesis) is entirely on one side (tail) of the distribution.\n",
    "Power: It has more statistical power to detect an effect in one direction, as all the focus of the test is on detecting either an increase or a decrease but not both.\n",
    "Two-Tailed Test:\n",
    "\n",
    "Non-Directional Hypothesis: A two-tailed test does not specify a direction. Instead, it tests whether there is any difference, regardless of the direction.\n",
    "Example Hypotheses:\n",
    "\"The new medication affects blood pressure.\"\n",
    "\"The new teaching method has an impact on test scores.\"\n",
    "Statistical Test: This test checks for the possibility of the relationship in both directions (greater or lesser). It assesses whether the sample mean is significantly different from the population mean, without specifying the direction of the difference.\n",
    "Critical Region: The critical region is divided between the two tails (ends) of the distribution curve. This means that extremely high or extremely low results (as per the distribution) can lead to rejection of the null hypothesis.\n",
    "Power: It is less powerful than a one-tailed test for detecting an effect in a specific direction because the test's power is split between two tails.\n",
    "Choosing Between the Two:\n",
    "\n",
    "The choice between a one-tailed and a two-tailed test depends on the research question or hypothesis. If the researcher has a specific direction of effect in mind, a one-tailed test is appropriate. If the researcher is simply testing for any difference without a directional hypothesis, a two-tailed test is more suitable.\n",
    "Ethical considerations are also important. In fields where overestimating the effectiveness of a treatment could have serious implications (like medicine), two-tailed tests are often preferred because they are more conservative.\n",
    "Statistical Significance:\n",
    "\n",
    "In a one-tailed test, all the alpha level (e.g., 0.05) is in one tail of the distribution. In a two-tailed test, this alpha level is split between the two tails (e.g., 0.025 in each tail for an alpha level of 0.05)"
   ]
  }
 ],
 "metadata": {
  "kernelspec": {
   "display_name": "Python 3 (ipykernel)",
   "language": "python",
   "name": "python3"
  },
  "language_info": {
   "codemirror_mode": {
    "name": "ipython",
    "version": 3
   },
   "file_extension": ".py",
   "mimetype": "text/x-python",
   "name": "python",
   "nbconvert_exporter": "python",
   "pygments_lexer": "ipython3",
   "version": "3.10.9"
  }
 },
 "nbformat": 4,
 "nbformat_minor": 5
}
